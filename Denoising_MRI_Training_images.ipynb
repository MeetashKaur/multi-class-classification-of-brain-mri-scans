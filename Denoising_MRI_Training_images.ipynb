{
 "cells": [
  {
   "cell_type": "code",
   "execution_count": 1,
   "id": "sweet-scientist",
   "metadata": {},
   "outputs": [],
   "source": [
    "import cv2\n",
    "img= cv2.imread('C:/Brain_Multilabel_MRI_dataset/Training/glioma_tumor/gg (51).jpg')\n",
    "bilateral_using_cv2 = cv2.bilateralFilter(img, 15, 75, 75,borderType=cv2.BORDER_CONSTANT)\n",
    "cv2.imshow(\"Original\", img)\n",
    "cv2.imshow(\"skimage bilateral\",bilateral_using_cv2)\n",
    "cv2.waitKey(0)          \n",
    "cv2.destroyAllWindows() "
   ]
  },
  {
   "cell_type": "code",
   "execution_count": 2,
   "id": "included-relay",
   "metadata": {
    "scrolled": true
   },
   "outputs": [],
   "source": [
    "#select the path\n",
    "import os\n",
    "import numpy as np\n",
    "import cv2\n",
    "from skimage import img_as_ubyte, img_as_float\n",
    "path =\"C:/Brain_Multilabel_MRI_dataset/Training/resize_gt_images\"\n",
    "f=0\n",
    "for file in os.listdir(path):\n",
    "    file=cv2.imread(os.path.join(path,file))\n",
    "    bilateral_using_cv2= cv2.bilateralFilter(file, 15, 75, 75,borderType=cv2.BORDER_CONSTANT)\n",
    "    cv2.imwrite('C:/Brain_Multilabel_MRI_dataset/Training/gt_denoised_images/'+\"image\"+str(f)+\".jpg\",bilateral_using_cv2)\n",
    "    f +=1;"
   ]
  },
  {
   "cell_type": "code",
   "execution_count": 3,
   "id": "genetic-princeton",
   "metadata": {
    "scrolled": true
   },
   "outputs": [],
   "source": [
    "import os\n",
    "import cv2\n",
    "from skimage import img_as_ubyte\n",
    "path =\"C:/Brain_Multilabel_MRI_dataset/Training/resize_nt_images\"\n",
    "f=0\n",
    "for file in os.listdir(path):\n",
    "    file=cv2.imread(os.path.join(path,file))\n",
    "    bilateral_using_cv2= cv2.bilateralFilter(file, 15, 75, 75,borderType=cv2.BORDER_CONSTANT)\n",
    "    cv2.imwrite('C:/Brain_Multilabel_MRI_dataset/Training/nt_denoised_images/'+\"image\"+str(f)+\".jpg\",bilateral_using_cv2)\n",
    "    f +=1;"
   ]
  },
  {
   "cell_type": "code",
   "execution_count": 4,
   "id": "becoming-forty",
   "metadata": {},
   "outputs": [],
   "source": [
    "path =\"C:/Brain_Multilabel_MRI_dataset/Training/resize_pt_images\"\n",
    "f=0\n",
    "for file in os.listdir(path):\n",
    "    file=cv2.imread(os.path.join(path,file))\n",
    "    bilateral_using_cv2= cv2.bilateralFilter(file, 15, 75, 75,borderType=cv2.BORDER_CONSTANT)\n",
    "    cv2.imwrite('C:/Brain_Multilabel_MRI_dataset/Training/pt_denoised_images/'+\"image\"+str(f)+\".jpg\",bilateral_using_cv2)\n",
    "    f +=1;"
   ]
  },
  {
   "cell_type": "code",
   "execution_count": 5,
   "id": "grand-disclosure",
   "metadata": {},
   "outputs": [],
   "source": [
    "path =\"C:/Brain_Multilabel_MRI_dataset/Training/resize_mt_images\"\n",
    "f=0\n",
    "for file in os.listdir(path):\n",
    "    file=cv2.imread(os.path.join(path,file))\n",
    "    bilateral_using_cv2= cv2.bilateralFilter(file, 15, 75, 75,borderType=cv2.BORDER_CONSTANT)\n",
    "    cv2.imwrite('C:/Brain_Multilabel_MRI_dataset/Training/mt_denoised_images/'+\"image\"+str(f)+\".jpg\",bilateral_using_cv2)\n",
    "    f +=1;"
   ]
  }
 ],
 "metadata": {
  "kernelspec": {
   "display_name": "Python 3",
   "language": "python",
   "name": "python3"
  },
  "language_info": {
   "codemirror_mode": {
    "name": "ipython",
    "version": 3
   },
   "file_extension": ".py",
   "mimetype": "text/x-python",
   "name": "python",
   "nbconvert_exporter": "python",
   "pygments_lexer": "ipython3",
   "version": "3.7.5"
  }
 },
 "nbformat": 4,
 "nbformat_minor": 5
}
