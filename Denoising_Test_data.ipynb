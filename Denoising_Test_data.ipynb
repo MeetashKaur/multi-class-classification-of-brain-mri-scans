{
 "cells": [
  {
   "cell_type": "code",
   "execution_count": 1,
   "id": "later-bankruptcy",
   "metadata": {},
   "outputs": [],
   "source": [
    "#select the path\n",
    "import os\n",
    "import numpy as np\n",
    "import cv2\n",
    "path =\"C:/Brain_Multilabel_MRI_dataset/Testing/resize_gt_test\"\n",
    "f=0\n",
    "for file in os.listdir(path):\n",
    "    file=cv2.imread(os.path.join(path,file))\n",
    "    bilateral_using_cv2= cv2.bilateralFilter(file, 15, 75, 75,borderType=cv2.BORDER_CONSTANT)\n",
    "    cv2.imwrite('C:/Brain_Multilabel_MRI_dataset/Testing/denoised_gt_test/'+\"image\"+str(f)+\".jpg\",bilateral_using_cv2)\n",
    "    f +=1;"
   ]
  },
  {
   "cell_type": "code",
   "execution_count": 2,
   "id": "better-neighbor",
   "metadata": {},
   "outputs": [],
   "source": [
    "path =\"C:/Brain_Multilabel_MRI_dataset/Testing/resize_pt_test\"\n",
    "f=0\n",
    "for file in os.listdir(path):\n",
    "    file=cv2.imread(os.path.join(path,file))\n",
    "    bilateral_using_cv2= cv2.bilateralFilter(file, 15, 75, 75,borderType=cv2.BORDER_CONSTANT)\n",
    "    cv2.imwrite('C:/Brain_Multilabel_MRI_dataset/Testing/denoised_pt_test/'+\"image\"+str(f)+\".jpg\",bilateral_using_cv2)\n",
    "    f +=1;"
   ]
  },
  {
   "cell_type": "code",
   "execution_count": 3,
   "id": "northern-metropolitan",
   "metadata": {},
   "outputs": [],
   "source": [
    "path =\"C:/Brain_Multilabel_MRI_dataset/Testing/resize_nt_test\"\n",
    "f=0\n",
    "for file in os.listdir(path):\n",
    "    file=cv2.imread(os.path.join(path,file))\n",
    "    bilateral_using_cv2= cv2.bilateralFilter(file, 15, 75, 75,borderType=cv2.BORDER_CONSTANT)\n",
    "    cv2.imwrite('C:/Brain_Multilabel_MRI_dataset/Testing/denoised_nt_test/'+\"image\"+str(f)+\".jpg\",bilateral_using_cv2)\n",
    "    f +=1;"
   ]
  },
  {
   "cell_type": "code",
   "execution_count": 4,
   "id": "charged-security",
   "metadata": {},
   "outputs": [],
   "source": [
    "path =\"C:/Brain_Multilabel_MRI_dataset/Testing/resize_mt_test\"\n",
    "f=0\n",
    "for file in os.listdir(path):\n",
    "    file=cv2.imread(os.path.join(path,file))\n",
    "    bilateral_using_cv2= cv2.bilateralFilter(file, 15, 75, 75,borderType=cv2.BORDER_CONSTANT)\n",
    "    cv2.imwrite('C:/Brain_Multilabel_MRI_dataset/Testing/denoised_mt_test/'+\"image\"+str(f)+\".jpg\",bilateral_using_cv2)\n",
    "    f +=1;"
   ]
  }
 ],
 "metadata": {
  "kernelspec": {
   "display_name": "Python 3",
   "language": "python",
   "name": "python3"
  },
  "language_info": {
   "codemirror_mode": {
    "name": "ipython",
    "version": 3
   },
   "file_extension": ".py",
   "mimetype": "text/x-python",
   "name": "python",
   "nbconvert_exporter": "python",
   "pygments_lexer": "ipython3",
   "version": "3.7.5"
  }
 },
 "nbformat": 4,
 "nbformat_minor": 5
}
